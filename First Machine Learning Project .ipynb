{
 "cells": [
  {
   "cell_type": "markdown",
   "metadata": {},
   "source": [
    "I am going to following this [tutorial](https://machinelearningmastery.com/machine-learning-in-python-step-by-step/) to create my first machine learning project. To actually learn the steps in creating a machine learning project, read the tutorial. In this notebook I will only be explaining the code from the tutorial, not why we are using it. "
   ]
  },
  {
   "cell_type": "markdown",
   "metadata": {},
   "source": [
    "## Version Checking"
   ]
  },
  {
   "cell_type": "code",
   "execution_count": 30,
   "metadata": {
    "scrolled": true
   },
   "outputs": [
    {
     "name": "stdout",
     "output_type": "stream",
     "text": [
      "Python: 3.6.5 |Anaconda, Inc.| (default, Apr 29 2018, 16:14:56) \n",
      "[GCC 7.2.0]\n",
      "scipy: 0.19.1\n",
      "numpy: 1.12.1\n",
      "matplotlib: 2.1.0\n",
      "pandas: 0.22.0\n",
      "sklearn: 0.18.2\n"
     ]
    }
   ],
   "source": [
    "# Check the versions of libraries\n",
    "\n",
    "# Python version\n",
    "import sys\n",
    "print('Python: {}'.format(sys.version))\n",
    "# scipy\n",
    "import scipy\n",
    "print('scipy: {}'.format(scipy.__version__))\n",
    "# numpy\n",
    "import numpy\n",
    "print('numpy: {}'.format(numpy.__version__))\n",
    "# matplotlib\n",
    "import matplotlib\n",
    "print('matplotlib: {}'.format(matplotlib.__version__))\n",
    "# pandas\n",
    "import pandas\n",
    "print('pandas: {}'.format(pandas.__version__))\n",
    "# scikit-learn\n",
    "import sklearn\n",
    "print('sklearn: {}'.format(sklearn.__version__))"
   ]
  },
  {
   "cell_type": "markdown",
   "metadata": {},
   "source": [
    "Let's break down what the above code means. "
   ]
  },
  {
   "cell_type": "code",
   "execution_count": 31,
   "metadata": {},
   "outputs": [],
   "source": [
    "import sys"
   ]
  },
  {
   "cell_type": "markdown",
   "metadata": {},
   "source": [
    "Sys stands for system. I think it's similar to std in c/c++. \n",
    "This line is saying to import the library (called module in python) called sys. This module provides a number of functions and variables that can be used to manipulate different parts of the Python runtime environment.\n",
    "\n",
    "Side note -- here's an excellent [resource](http://effbot.org/librarybook/sys.htm) for understanding modules (including sys) as well as other basics. "
   ]
  },
  {
   "cell_type": "code",
   "execution_count": 32,
   "metadata": {},
   "outputs": [
    {
     "name": "stdout",
     "output_type": "stream",
     "text": [
      "Python: 3.6.5 |Anaconda, Inc.| (default, Apr 29 2018, 16:14:56) \n",
      "[GCC 7.2.0]\n"
     ]
    }
   ],
   "source": [
    "print('Python: {}'.format(sys.version))"
   ]
  },
  {
   "cell_type": "markdown",
   "metadata": {},
   "source": [
    "This is a basic call to the print function. This [link](https://www.python-course.eu/python3_print.php) shows the basics of the print function. As with a print function in any language, only what is in quotations marks gets printed. \n",
    "\n",
    "Python: {} ----> This is a string object. Remember objects have member functions that can be called using dot operator.\n",
    "\n",
    ".format ----> This is a string member function. It is used to format the string. The empty braces in the string are used as an argument holder. ( Could have also written 'Python: {0}'.format(sys.version) and it would have been equivalent). To understand this further, visit this [website](https://www.python.org/dev/peps/pep-3101/). Also, understanding the basics of what classes are, and what an object-oriented programming language (which python is) would be helpful.\n",
    "\n",
    "sys.version ----> Again, sys is a module. It has certain member functions, version being one of them.\n",
    "\n",
    "Alright, let's move on. \n"
   ]
  },
  {
   "cell_type": "markdown",
   "metadata": {},
   "source": [
    "## Building the Actual Project"
   ]
  },
  {
   "cell_type": "code",
   "execution_count": 33,
   "metadata": {},
   "outputs": [],
   "source": [
    "# Load libraries\n",
    "import pandas\n",
    "from pandas.plotting import scatter_matrix\n",
    "import matplotlib.pyplot as plt\n",
    "from sklearn import model_selection\n",
    "from sklearn.metrics import classification_report\n",
    "from sklearn.metrics import confusion_matrix\n",
    "from sklearn.metrics import accuracy_score\n",
    "from sklearn.linear_model import LogisticRegression\n",
    "from sklearn.tree import DecisionTreeClassifier\n",
    "from sklearn.neighbors import KNeighborsClassifier\n",
    "from sklearn.discriminant_analysis import LinearDiscriminantAnalysis\n",
    "from sklearn.naive_bayes import GaussianNB\n",
    "from sklearn.svm import SVC"
   ]
  },
  {
   "cell_type": "code",
   "execution_count": 34,
   "metadata": {},
   "outputs": [],
   "source": [
    "# Load dataset\n",
    "url = \"https://archive.ics.uci.edu/ml/machine-learning-databases/iris/iris.data\"\n",
    "names = ['sepal-length', 'sepal-width', 'petal-length', 'petal-width', 'class']\n",
    "dataset = pandas.read_csv(url, names=names)"
   ]
  },
  {
   "cell_type": "markdown",
   "metadata": {},
   "source": [
    "Above code is simply uploading the dataset into a [dataframe](https://chrisalbon.com/python/data_wrangling/pandas_dataframe_importing_csv/) called \"dataset\", and it is giving each column in the data a certain name. A dataframe (shorthand is dt) is simply like a matrix, each column (called attributes) will have the names we specificed, and each row (called instance) will contain the data that we uploaded. Dataframes have certain attributes, like shape and values (returns the values in the dt, not row or col labels). They also have certain functions like head, and describe. \n",
    "\n",
    "Another excellent resource for understanding [dataframes](https://www.datacamp.com/community/tutorials/pandas-tutorial-dataframe-python).\n",
    "\n",
    "The pandas module is the one that offers this data structure called dataframes. "
   ]
  },
  {
   "cell_type": "code",
   "execution_count": 35,
   "metadata": {},
   "outputs": [
    {
     "name": "stdout",
     "output_type": "stream",
     "text": [
      "(150, 5)\n"
     ]
    }
   ],
   "source": [
    "# shape\n",
    "print(dataset.shape)"
   ]
  },
  {
   "cell_type": "markdown",
   "metadata": {},
   "source": [
    "150 instances, 5 attributes"
   ]
  },
  {
   "cell_type": "code",
   "execution_count": 36,
   "metadata": {},
   "outputs": [
    {
     "name": "stdout",
     "output_type": "stream",
     "text": [
      "    sepal-length  sepal-width  petal-length  petal-width        class\n",
      "0            5.1          3.5           1.4          0.2  Iris-setosa\n",
      "1            4.9          3.0           1.4          0.2  Iris-setosa\n",
      "2            4.7          3.2           1.3          0.2  Iris-setosa\n",
      "3            4.6          3.1           1.5          0.2  Iris-setosa\n",
      "4            5.0          3.6           1.4          0.2  Iris-setosa\n",
      "5            5.4          3.9           1.7          0.4  Iris-setosa\n",
      "6            4.6          3.4           1.4          0.3  Iris-setosa\n",
      "7            5.0          3.4           1.5          0.2  Iris-setosa\n",
      "8            4.4          2.9           1.4          0.2  Iris-setosa\n",
      "9            4.9          3.1           1.5          0.1  Iris-setosa\n",
      "10           5.4          3.7           1.5          0.2  Iris-setosa\n",
      "11           4.8          3.4           1.6          0.2  Iris-setosa\n",
      "12           4.8          3.0           1.4          0.1  Iris-setosa\n",
      "13           4.3          3.0           1.1          0.1  Iris-setosa\n",
      "14           5.8          4.0           1.2          0.2  Iris-setosa\n",
      "15           5.7          4.4           1.5          0.4  Iris-setosa\n",
      "16           5.4          3.9           1.3          0.4  Iris-setosa\n",
      "17           5.1          3.5           1.4          0.3  Iris-setosa\n",
      "18           5.7          3.8           1.7          0.3  Iris-setosa\n",
      "19           5.1          3.8           1.5          0.3  Iris-setosa\n"
     ]
    }
   ],
   "source": [
    "# head\n",
    "print(dataset.head(20))"
   ]
  },
  {
   "cell_type": "code",
   "execution_count": 37,
   "metadata": {},
   "outputs": [
    {
     "name": "stdout",
     "output_type": "stream",
     "text": [
      "       sepal-length  sepal-width  petal-length  petal-width\n",
      "count    150.000000   150.000000    150.000000   150.000000\n",
      "mean       5.843333     3.054000      3.758667     1.198667\n",
      "std        0.828066     0.433594      1.764420     0.763161\n",
      "min        4.300000     2.000000      1.000000     0.100000\n",
      "25%        5.100000     2.800000      1.600000     0.300000\n",
      "50%        5.800000     3.000000      4.350000     1.300000\n",
      "75%        6.400000     3.300000      5.100000     1.800000\n",
      "max        7.900000     4.400000      6.900000     2.500000\n"
     ]
    }
   ],
   "source": [
    "#descriptions\n",
    "print(dataset.describe())"
   ]
  },
  {
   "cell_type": "code",
   "execution_count": 38,
   "metadata": {},
   "outputs": [
    {
     "name": "stdout",
     "output_type": "stream",
     "text": [
      "class\n",
      "Iris-setosa        50\n",
      "Iris-versicolor    50\n",
      "Iris-virginica     50\n",
      "dtype: int64\n"
     ]
    }
   ],
   "source": [
    "#class distribution\n",
    "print(dataset.groupby('class').size())"
   ]
  },
  {
   "cell_type": "markdown",
   "metadata": {
    "slideshow": {
     "slide_type": "slide"
    }
   },
   "source": [
    "I skipped a few steps after this, as there is no point in copying and pasting code from the tutorial. It pretty much makes sense when you read it.\n",
    "\n",
    "Now let's get to actually evaluating some algorithms. "
   ]
  },
  {
   "cell_type": "code",
   "execution_count": 39,
   "metadata": {
    "scrolled": true
   },
   "outputs": [],
   "source": [
    "array = dataset.values\n",
    "X = array[:,0:4]\n",
    "Y = array[:,4]\n",
    "validation_size = 0.20\n",
    "seed = 7\n",
    "X_train, X_validation, Y_train, Y_validation = model_selection.train_test_split(X, Y, test_size=validation_size, random_state=seed)"
   ]
  },
  {
   "cell_type": "markdown",
   "metadata": {},
   "source": [
    "What we are trying to do now is to seperate the dataset into 20% to test the accuracy of our algorithms, and 80% to train the algorithm.\n",
    "\n",
    "Let's understand the above code before we move on.\n",
    "\n",
    "\n",
    "dataset.values --> Like I said before, dataset is a dataframe. A dataframe comes with certain attributes, \"values\" is one of them. To understand the dataframe attribute values further, here's a [resource](https://pandas.pydata.org/pandas-docs/stable/generated/pandas.DataFrame.values.html#pandas.DataFrame.values). This resource also explains many other important details about dataframes. \n",
    "\n",
    "The result from dataset.values is stored into a storage structure called array. This specific array is an NumPy array (different from a python array). It from the class called ndarray.\n",
    "\n",
    "An ndarray array has a rank (number of dimensions) and a shape (a tuple stating the length of each dimension of the array). \n",
    "\n"
   ]
  },
  {
   "cell_type": "raw",
   "metadata": {},
   "source": [
    "For example:\n",
    "\n",
    "cat = np.array([1,2,3]) #cat is an ndarray array of rank 1\n",
    "print(cat.shape) #prints (3,) --->because there is only one dimension and it has a length of three\n",
    "\n",
    "dog = np.array([[1,2,3],[2,3,1]])\n",
    "print(dog.shape) #prints (2,3) --->because rank is 2, the length along the rows is 2, and along cols is 3\n"
   ]
  },
  {
   "cell_type": "markdown",
   "metadata": {},
   "source": [
    "Now let's move on to the next line of code.\n",
    "\n",
    "X = array[:,0:4] ---> What's happening over here is what's called slicing. A certain subsect of the array is being stored into x.\n",
    "\n",
    "Slicing is a form of indexing. It allows you grab a certain portion of the storage container and store it into another storage container. \n",
    "\n",
    "array[:,0:4] ---> This means take all the values from the rows from columns 0 to 4 (exculsive) from array\n",
    "\n",
    "Y = array[:,4] ---> This means take all the values from the rows in column 4 from array and store into Y.\n",
    "\n",
    "\n",
    "To understand numpy a bit better, here's a [link](http://cs231n.github.io/python-numpy-tutorial/). I highly recommend going through that link as it really does a good job of explaining things such as creating functions, dictionaries, classes, tuples etc. in python. It also goes into numpy and throughly explains the concepts I have mentioned (like ndarrays, indexing, slicing).  \n",
    "\n",
    "validation_size = 0.20 ---> validation_size is a variable with the value 0.20\n",
    "\n",
    "seed = 7 ---> seed is a variable with the value 7"
   ]
  },
  {
   "cell_type": "markdown",
   "metadata": {},
   "source": [
    "Alright now the last line in that chunk of code is very long so let me first copy it down here and then we can go through it:\n",
    "\n",
    "X_train, X_validation, Y_train, Y_validation = model_selection.train_test_split(X, Y, test_size=validation_size, random_state=seed)\n",
    "\n",
    "model_selection ---> This is a submodule of the module sklearn. If you scroll up you can see that we imported this at the beginning\n",
    "\n",
    "model_selection.train_test_split ---> This is one of the functions from the model_selection library. To read the actual function defintion, it's purpose, and implementation, have a look at [this](https://github.com/scikit-learn/scikit-learn/blob/ed5e127b/sklearn/model_selection/_split.py#L1920). "
   ]
  },
  {
   "cell_type": "code",
   "execution_count": 40,
   "metadata": {},
   "outputs": [],
   "source": [
    "# Test options and evaluation metric\n",
    "seed = 7\n",
    "scoring = 'accuracy'"
   ]
  },
  {
   "cell_type": "code",
   "execution_count": 42,
   "metadata": {},
   "outputs": [],
   "source": [
    "# Spot Check Algorithms\n",
    "models = [] #Create an empty list"
   ]
  },
  {
   "cell_type": "code",
   "execution_count": null,
   "metadata": {},
   "outputs": [],
   "source": [
    "models.append(('LR', LogisticRegression()))\n",
    "models.append(('LDA', LinearDiscriminantAnalysis()))\n",
    "models.append(('KNN', KNeighborsClassifier()))\n",
    "models.append(('CART', DecisionTreeClassifier()))\n",
    "models.append(('NB', GaussianNB()))\n",
    "models.append(('SVM', SVC()))"
   ]
  }
 ],
 "metadata": {
  "kernelspec": {
   "display_name": "Python 3",
   "language": "python",
   "name": "python3"
  },
  "language_info": {
   "codemirror_mode": {
    "name": "ipython",
    "version": 3
   },
   "file_extension": ".py",
   "mimetype": "text/x-python",
   "name": "python",
   "nbconvert_exporter": "python",
   "pygments_lexer": "ipython3",
   "version": "3.6.5"
  }
 },
 "nbformat": 4,
 "nbformat_minor": 2
}
